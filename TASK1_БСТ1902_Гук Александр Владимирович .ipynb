{
 "cells": [
  {
   "cell_type": "markdown",
   "id": "basic-owner",
   "metadata": {},
   "source": [
    "# Контрольные задачи №1\n",
    "## Выполнил студент группы БСТ1902 Гук Александр Владимирович\n",
    "### Задача 1. «Треугольник с максимальным периметром»\n",
    "   #### Массив A состоит из целых положительных чисел - длин отрезков. Составьте из трех отрезков такой треугольник, чтобы его периметр был максимально возможным. Если невозможно составить треугольник с положительной площадью - функция возвращает 0\n",
    "   ### Генерация массива"
   ]
  },
  {
   "cell_type": "code",
   "execution_count": 1,
   "id": "disabled-stationery",
   "metadata": {},
   "outputs": [],
   "source": [
    "import random\n",
    "\n",
    "def generateArr_1(size):\n",
    "    if size<3: size=3\n",
    "    elif size>10000: size=10000\n",
    "    arr=[]\n",
    "    for i in range(size):\n",
    "        arr.append(random.randint(1,10**6))\n",
    "    return arr"
   ]
  },
  {
   "cell_type": "markdown",
   "id": "proprietary-stevens",
   "metadata": {},
   "source": [
    "### Нахождение периметра и площади "
   ]
  },
  {
   "cell_type": "code",
   "execution_count": 2,
   "id": "sacred-budapest",
   "metadata": {},
   "outputs": [],
   "source": [
    "import math\n",
    "\n",
    "def triangle_P(a,b,c):\n",
    "    P=a+b+c\n",
    "    return P\n",
    "\n",
    "def triangle_S(a,b,c,P):\n",
    "    p=P/2\n",
    "    temp_S=p*(p-a)*(p-b)*(p-c) \n",
    "    if temp_S>0:\n",
    "        S=math.sqrt(temp_S)\n",
    "        return S\n",
    "    else:\n",
    "        return 0"
   ]
  },
  {
   "cell_type": "markdown",
   "id": "entire-logistics",
   "metadata": {},
   "source": [
    "### Функция задания № 1"
   ]
  },
  {
   "cell_type": "code",
   "execution_count": 12,
   "id": "awful-writing",
   "metadata": {},
   "outputs": [],
   "source": [
    "def task_1():\n",
    "   \n",
    "    arr=generateArr_1(4)\n",
    "    arr.sort(reverse=True)\n",
    "    \n",
    "    s=0\n",
    "    i=0\n",
    "    while(s==0 and i<len(arr)-2):\n",
    "        p=triangle_P(arr[i],arr[i+1],arr[i+2])\n",
    "        s=triangle_S(arr[i],arr[i+1],arr[i+2],p)\n",
    "        i+=1\n",
    "        \n",
    "    i-=1\n",
    "\n",
    "    print('Исходный массив: A =',arr)\n",
    "    print(\"Максимальная площадь: \", s)\n",
    "    print('\\nСтороны треугольника:', arr[i], arr[i+1], arr[i+2])\n",
    "    print ('\\nМаксимальный периметр: P =',p)"
   ]
  },
  {
   "cell_type": "code",
   "execution_count": 58,
   "id": "presidential-skill",
   "metadata": {},
   "outputs": [
    {
     "name": "stdout",
     "output_type": "stream",
     "text": [
      "Исходный массив: A = [969025, 963656, 919565, 333706]\n",
      "Максимальная площадь:  390785207654.09033\n",
      "\n",
      "Стороны треугольника: 969025 963656 919565\n",
      "\n",
      "Максимальный периметр: P = 2852246\n"
     ]
    }
   ],
   "source": [
    "task_1()"
   ]
  },
  {
   "cell_type": "markdown",
   "id": "central-highway",
   "metadata": {},
   "source": [
    "## Задача 2. «Максимальное число»\n",
    "### Дан массив неотрицательных целых чисел nums. Расположите их в таком порядке, чтобы вместе они образовали максимально возможное число.\n",
    "#### Генерация массива"
   ]
  },
  {
   "cell_type": "code",
   "execution_count": 15,
   "id": "legitimate-wrist",
   "metadata": {},
   "outputs": [],
   "source": [
    "def generateArr_2(size):\n",
    "    if size<1: size=1\n",
    "    elif size>100: size=100\n",
    "    arr=[]\n",
    "    for i in range(size):\n",
    "        arr.append(random.randint(0,10**9))\n",
    "    return arr"
   ]
  },
  {
   "cell_type": "markdown",
   "id": "functional-reference",
   "metadata": {},
   "source": [
    "#### Функция возвращает true, после сравнения 1>2"
   ]
  },
  {
   "cell_type": "code",
   "execution_count": 16,
   "id": "narrative-amber",
   "metadata": {},
   "outputs": [],
   "source": [
    "def value1_bigger(int_val1, int_val2):\n",
    "    val1=str(int_val1)\n",
    "    val2=str(int_val2)\n",
    "    \n",
    "    \n",
    "    if int(val1+val2)>int(val2+val1):\n",
    "        return True\n",
    "    else:\n",
    "        return False"
   ]
  },
  {
   "cell_type": "markdown",
   "id": "close-classification",
   "metadata": {},
   "source": [
    "### Функция задания № 2"
   ]
  },
  {
   "cell_type": "code",
   "execution_count": 36,
   "id": "recent-tract",
   "metadata": {},
   "outputs": [],
   "source": [
    "def task_2():\n",
    "    arr=generateArr_2(3)\n",
    "    print('Исходный массив:\\n\\n A =',arr)\n",
    "    \n",
    "    max_val=\"\"\n",
    "\n",
    "    for i in range(len(arr)-1):\n",
    "        max_elem=arr[i]\n",
    "        max_index=i\n",
    "\n",
    "        for j in range(i+1, len(arr)):\n",
    "            if value1_bigger(arr[j],max_elem):\n",
    "                max_elem=arr[j]\n",
    "                max_index=j\n",
    "        \n",
    "        arr[max_index],arr[i]=arr[i],arr[max_index]\n",
    "\n",
    "    for i in range(len(arr)):\n",
    "        max_val+=str(arr[i])\n",
    "\n",
    "    print(\"\\nОтсортированный массив:\\n\\n A =\",arr)\n",
    "    print(\"\\nМаксимально возможное число:\\n\\n\",max_val)"
   ]
  },
  {
   "cell_type": "code",
   "execution_count": 60,
   "id": "published-course",
   "metadata": {},
   "outputs": [
    {
     "name": "stdout",
     "output_type": "stream",
     "text": [
      "Исходный массив:\n",
      "\n",
      " A = [455978291, 783477755, 189057077]\n",
      "\n",
      "Отсортированный массив:\n",
      "\n",
      " A = [783477755, 455978291, 189057077]\n",
      "\n",
      "Максимально возможное число:\n",
      "\n",
      " 783477755455978291189057077\n"
     ]
    }
   ],
   "source": [
    "task_2()"
   ]
  },
  {
   "cell_type": "markdown",
   "id": "normal-ghost",
   "metadata": {},
   "source": [
    "## Задача 3. «Сортировка диагоналей в матрице»\n",
    "### Дана матрица mat размером m * n, значения - целочисленные. Напишите функцию, сортирующую каждую диагональ матрицы по возрастанию и возвращающую получившуюся матрицу.\n",
    "#### Генерация матрицы"
   ]
  },
  {
   "cell_type": "code",
   "execution_count": 53,
   "id": "ordinary-prophet",
   "metadata": {},
   "outputs": [],
   "source": [
    "def generateArr_3(size):\n",
    "    if size<1: size=1\n",
    "    elif size>100: size=100\n",
    "    arr = []\n",
    "    for i in range(size):\n",
    "        arr.append(random.randint(1,100))\n",
    "    return arr\n",
    "\n",
    "# Вывод матрицы в столбик\n",
    "def print_mat(mat):\n",
    "    for i in range(len(mat)):\n",
    "        print(mat[i], \"\")"
   ]
  },
  {
   "cell_type": "code",
   "execution_count": 54,
   "id": "falling-weekly",
   "metadata": {},
   "outputs": [],
   "source": [
    "# числа из диагонали\n",
    "def take_nums(mat, row, col):\n",
    "    temp = []\n",
    "    while row < len(mat) and col < len(mat[0]):\n",
    "        temp.append(mat[row][col])\n",
    "        row += 1\n",
    "        col += 1\n",
    "    return temp\n",
    "\n",
    "# Вставляет числа в диагональ\n",
    "def insert_nums(mat, row, col, temp):\n",
    "    i = 0\n",
    "    while row < len(mat) and col < len(mat[0]) and i < len(temp):\n",
    "        mat[row][col]=temp[i]\n",
    "        row += 1\n",
    "        col += 1\n",
    "        i += 1"
   ]
  },
  {
   "cell_type": "markdown",
   "id": "opened-going",
   "metadata": {},
   "source": [
    "### Функция задания № 3"
   ]
  },
  {
   "cell_type": "code",
   "execution_count": 55,
   "id": "elect-ferry",
   "metadata": {},
   "outputs": [],
   "source": [
    "   def task_3():\n",
    "    mat = []\n",
    "    m = 4  # строки row\n",
    "    n = 5  # столбцы col\n",
    "    for i in range(m):\n",
    "        mat.append(generateArr_3(n))\n",
    "\n",
    "    print(\"Исходная матрица:\\n\")\n",
    "    print_mat(mat)\n",
    "\n",
    "    # Часть по строчкам\n",
    "    for i in range(m-1):\n",
    "        temp = take_nums(mat, i, 0)\n",
    "        temp.sort()\n",
    "        insert_nums(mat, i, 0, temp)\n",
    "\n",
    "    # Часть по столбцам\n",
    "    for i in range(1,n-1):\n",
    "        temp = take_nums(mat, 0, i)\n",
    "        temp.sort()\n",
    "        insert_nums(mat, 0, i, temp)\n",
    "\n",
    "    print(\"\\n\\nОтсортированная матрица:\\n\")\n",
    "    print_mat(mat)"
   ]
  },
  {
   "cell_type": "code",
   "execution_count": 61,
   "id": "dynamic-battle",
   "metadata": {},
   "outputs": [
    {
     "name": "stdout",
     "output_type": "stream",
     "text": [
      "Исходная матрица:\n",
      "\n",
      "[68, 94, 76, 77, 98] \n",
      "[80, 29, 65, 45, 2] \n",
      "[50, 83, 95, 24, 100] \n",
      "[34, 61, 25, 22, 5] \n",
      "\n",
      "\n",
      "Отсортированная матрица:\n",
      "\n",
      "[22, 5, 45, 2, 98] \n",
      "[25, 29, 24, 76, 77] \n",
      "[50, 80, 68, 65, 100] \n",
      "[34, 61, 83, 95, 94] \n"
     ]
    }
   ],
   "source": [
    "task_3()"
   ]
  },
  {
   "cell_type": "code",
   "execution_count": null,
   "id": "handled-marsh",
   "metadata": {},
   "outputs": [],
   "source": []
  }
 ],
 "metadata": {
  "kernelspec": {
   "display_name": "Python 3",
   "language": "python",
   "name": "python3"
  },
  "language_info": {
   "codemirror_mode": {
    "name": "ipython",
    "version": 3
   },
   "file_extension": ".py",
   "mimetype": "text/x-python",
   "name": "python",
   "nbconvert_exporter": "python",
   "pygments_lexer": "ipython3",
   "version": "3.8.5"
  }
 },
 "nbformat": 4,
 "nbformat_minor": 5
}
