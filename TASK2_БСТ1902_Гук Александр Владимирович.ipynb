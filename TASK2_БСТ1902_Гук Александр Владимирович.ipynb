{
 "cells": [
  {
   "cell_type": "markdown",
   "id": "brutal-contrast",
   "metadata": {},
   "source": [
    "# Контрольные задачи  №2\n",
    "## Выполнил студент группы БСТ1902 Гук Александр Владимирович \n",
    "### Задача 1. «Шарики и стрелы»\n",
    "Некоторые сферические шарики распределены по двухмерному пространству. Для каждого шарика даны x-координаты начала и конца его горизонтального диаметра. \n",
    "Так как пространство двумерно, то y-координаты не имеют значения в данной задаче. \n",
    "Координата Xstart всегда меньше Xend. Стрелу можно выстрелить строго вертикально (вдоль y-оси) из разных точек x-оси. Шарик с координатами Xstart и Xend уничтожается стрелой,\n",
    "если она была выпущена из такой позиции x, что Xstart ⩽ x ⩽ Xend. \n",
    "Когда стрела выпущена, она летит в пространстве бесконечное время (уничтожая все шарики на пути). Дан массив points, где points[i] = [Xstart, Xend]. \n",
    "Напишите функцию, возвращающую минимальное количество стрел, которые нужно выпустить, чтобы уничтожить все шарики."
   ]
  },
  {
   "cell_type": "code",
   "execution_count": 1,
   "id": "involved-northeast",
   "metadata": {},
   "outputs": [],
   "source": [
    "import random\n",
    "\n",
    "# Генерация матрицы\n",
    "def generate_arrG(size):\n",
    "    arrG = []\n",
    "    for i in range(size):\n",
    "        arrG.append(random.randint(0, 1000))\n",
    "\n",
    "    arrG.sort()\n",
    "    return arrG\n",
    "\n",
    "# Сортировка массива\n",
    "def sort_arrS(arrG):\n",
    "    for i in range(len(arrG) - 1):\n",
    "        min_Xstart = arrG[i][0]\n",
    "        min_index = i\n",
    "        for j in range(i + 1, len(arrG)):\n",
    "            if min_Xstart > arrG[j][0]:\n",
    "                min_index = j\n",
    "                min_Xstart = arrG[j][0]\n",
    "                \n",
    "        if not min_index==i:\n",
    "            arrG[min_index],arrG[i]=arrG[i],arrG[min_index]"
   ]
  },
  {
   "cell_type": "markdown",
   "id": "first-latitude",
   "metadata": {},
   "source": [
    "### Функция задания№1"
   ]
  },
  {
   "cell_type": "code",
   "execution_count": 2,
   "id": "amended-harmony",
   "metadata": {},
   "outputs": [],
   "source": [
    "def task():\n",
    "    \n",
    "    # Генерация массива\n",
    "    points=[]\n",
    "    size = 8\n",
    "    for i in range(size):\n",
    "        points.append(generate_arrG(2))\n",
    "        \n",
    "    sort_arrS(points)\n",
    "    print(\"Массив: points =\", points)\n",
    "    \n",
    "    shots=0\n",
    "    \n",
    "    while len(points)>0:           \n",
    "        k_index=0\n",
    "        i = 1\n",
    "        while i<len(points) and points[i - 1][1]>=points[i][0] and points[0][1]>=points[i][0]:\n",
    "            i+=1\n",
    "            k_index+=1\n",
    "\n",
    "        while k_index>=0:\n",
    "            del points[k_index]\n",
    "            k_index-=1\n",
    "\n",
    "        shots+=1\n",
    "        \n",
    "    print(\"\\nКоличество выстрелов: \",shots)"
   ]
  },
  {
   "cell_type": "code",
   "execution_count": 7,
   "id": "settled-period",
   "metadata": {},
   "outputs": [
    {
     "name": "stdout",
     "output_type": "stream",
     "text": [
      "Массив: points = [[59, 983], [142, 516], [163, 480], [310, 640], [330, 754], [335, 865], [537, 550], [570, 919]]\n",
      "\n",
      "Количество выстрелов:  2\n"
     ]
    }
   ],
   "source": [
    "task()"
   ]
  },
  {
   "cell_type": "code",
   "execution_count": null,
   "id": "headed-shape",
   "metadata": {},
   "outputs": [],
   "source": []
  }
 ],
 "metadata": {
  "kernelspec": {
   "display_name": "Python 3",
   "language": "python",
   "name": "python3"
  },
  "language_info": {
   "codemirror_mode": {
    "name": "ipython",
    "version": 3
   },
   "file_extension": ".py",
   "mimetype": "text/x-python",
   "name": "python",
   "nbconvert_exporter": "python",
   "pygments_lexer": "ipython3",
   "version": "3.8.5"
  }
 },
 "nbformat": 4,
 "nbformat_minor": 5
}
